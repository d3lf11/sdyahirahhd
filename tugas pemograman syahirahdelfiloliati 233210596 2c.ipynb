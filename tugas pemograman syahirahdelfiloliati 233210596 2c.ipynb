{
 "cells": [
  {
   "cell_type": "code",
   "execution_count": 5,
   "metadata": {},
   "outputs": [
    {
     "name": "stdout",
     "output_type": "stream",
     "text": [
      "Requirement already satisfied: pandas in c:\\users\\lenovo\\appdata\\local\\programs\\python\\python312\\lib\\site-packages (2.2.2)\n",
      "Requirement already satisfied: numpy>=1.26.0 in c:\\users\\lenovo\\appdata\\local\\programs\\python\\python312\\lib\\site-packages (from pandas) (1.26.4)\n",
      "Requirement already satisfied: python-dateutil>=2.8.2 in c:\\users\\lenovo\\appdata\\roaming\\python\\python312\\site-packages (from pandas) (2.9.0.post0)\n",
      "Requirement already satisfied: pytz>=2020.1 in c:\\users\\lenovo\\appdata\\local\\programs\\python\\python312\\lib\\site-packages (from pandas) (2024.1)\n",
      "Requirement already satisfied: tzdata>=2022.7 in c:\\users\\lenovo\\appdata\\local\\programs\\python\\python312\\lib\\site-packages (from pandas) (2024.1)\n",
      "Requirement already satisfied: six>=1.5 in c:\\users\\lenovo\\appdata\\roaming\\python\\python312\\site-packages (from python-dateutil>=2.8.2->pandas) (1.16.0)\n",
      "Note: you may need to restart the kernel to use updated packages.\n"
     ]
    }
   ],
   "source": [
    "pip install pandas"
   ]
  },
  {
   "cell_type": "code",
   "execution_count": 11,
   "metadata": {},
   "outputs": [
    {
     "name": "stdout",
     "output_type": "stream",
     "text": [
      "DataFrame setelah menambhakan kolom 'domisili_asal':\n",
      "  nama kelas gender     nomor_hp domisili_asal\n",
      "0  ana    2A  cewek  08113322582     pekanbaru\n",
      "1  anu    2B  cowok  08129988563          duri\n",
      "2  ano    2C  cowok  08137896541         dumai\n",
      "3  ani    2D  cewek  08144447789          siak\n",
      "4  ane    2E  cewek  08158886665       bandung\n",
      "5  abu    2F  cowok  08173337744        padang\n",
      "6  abi    2G  cowok  08198877444         medan\n",
      "\n",
      "\n"
     ]
    }
   ],
   "source": [
    "import pandas as pd\n",
    "\n",
    "# membuat DataFrame\n",
    "data = {'nama':['ana','anu','ano','ani','ane','abu','abi'],\n",
    "        'kelas':['2A','2B','2C','2D','2E','2F','2G'],\n",
    "        'gender':['cewek','cowok','cowok','cewek','cewek','cowok','cowok'],\n",
    "        'nomor_hp':['08113322582','08129988563','08137896541','08144447789','08158886665','08173337744','08198877444']}\n",
    "\n",
    "df = pd.DataFrame(data)\n",
    "\n",
    "# menambahkan kolom baru\n",
    "df['domisili_asal'] = ['pekanbaru','duri','dumai','siak','bandung','padang','medan']\n",
    "print(\"DataFrame setelah menambhakan kolom 'domisili_asal':\")\n",
    "print(df)\n",
    "print(\"\\n\")\n"
   ]
  },
  {
   "cell_type": "code",
   "execution_count": 12,
   "metadata": {},
   "outputs": [
    {
     "name": "stdout",
     "output_type": "stream",
     "text": [
      "DataFrame setelah menghapus kolom 'nomor_hp':\n",
      "  nama kelas gender\n",
      "0  ana    2A  cewek\n",
      "1  anu    2B  cowok\n",
      "2  ano    2C  cowok\n",
      "3  ani    2D  cewek\n",
      "4  ane    2E  cewek\n",
      "5  abu    2F  cowok\n",
      "6  abi    2G  cowok\n",
      "\n",
      "\n"
     ]
    }
   ],
   "source": [
    "import pandas as pd\n",
    "\n",
    "# membuat DataFrame\n",
    "data = {'nama':['ana','anu','ano','ani','ane','abu','abi'],\n",
    "        'kelas':['2A','2B','2C','2D','2E','2F','2G'],\n",
    "        'gender':['cewek','cowok','cowok','cewek','cewek','cowok','cowok'],\n",
    "        'nomor_hp':['08113322582','08129988563','08137896541','08144447789','08158886665','08173337744','08198877444']}\n",
    "\n",
    "df = pd.DataFrame(data)\n",
    "\n",
    "# Menghapus kolom 'nomor_hp'\n",
    "df = df.drop(columns=['nomor_hp'])\n",
    "print(\"DataFrame setelah menghapus kolom 'nomor_hp':\")\n",
    "print(df)\n",
    "print(\"\\n\")"
   ]
  },
  {
   "cell_type": "code",
   "execution_count": 17,
   "metadata": {},
   "outputs": [
    {
     "name": "stdout",
     "output_type": "stream",
     "text": [
      "DataFrame setelah menambhakan kolom 'usia':\n",
      "  nama kelas gender     nomor_hp usia\n",
      "0  ana    2A  cewek  08113322582   17\n",
      "1  anu    2B  cowok  08129988563   18\n",
      "2  ano    2C  cowok  08137896541   19\n",
      "3  ani    2D  cewek  08144447789   20\n",
      "4  ane    2E  cewek  08158886665   18\n",
      "5  abu    2F  cowok  08173337744   19\n",
      "6  abi    2G  cowok  08198877444   17\n",
      "\n",
      "\n"
     ]
    }
   ],
   "source": [
    "import pandas as pd\n",
    "\n",
    "# membuat DataFrame\n",
    "data = {'nama':['ana','anu','ano','ani','ane','abu','abi'],\n",
    "        'kelas':['2A','2B','2C','2D','2E','2F','2G'],\n",
    "        'gender':['cewek','cowok','cowok','cewek','cewek','cowok','cowok'],\n",
    "        'nomor_hp':['08113322582','08129988563','08137896541','08144447789','08158886665','08173337744','08198877444']}\n",
    "\n",
    "df = pd.DataFrame(data)\n",
    "\n",
    "# menambahkan kolom baru\n",
    "df['usia'] = ['17','18','19','20','18','19','17']\n",
    "print(\"DataFrame setelah menambhakan kolom 'usia':\")\n",
    "print(df)\n",
    "print(\"\\n\")\n"
   ]
  },
  {
   "cell_type": "code",
   "execution_count": 44,
   "metadata": {},
   "outputs": [
    {
     "name": "stdout",
     "output_type": "stream",
     "text": [
      "Rata-rata usia: 18.285714285714285\n",
      "\n",
      "\n"
     ]
    }
   ],
   "source": [
    "import pandas as pd\n",
    "\n",
    "# membuat DataFrame\n",
    "data = {'nama':['ana','anu','ano','ani','ane','abu','abi'],\n",
    "        'kelas':['2A','2B','2C','2D','2E','2F','2G'],\n",
    "        'gender':['cewek','cowok','cowok','cewek','cewek','cowok','cowok'],\n",
    "        'usia':[17, 18, 19, 20, 18, 19, 17]}\n",
    "\n",
    "df = pd.DataFrame(data)\n",
    "\n",
    "# Menghitung rata-rata usia\n",
    "rata_usia = df['usia'].mean()\n",
    "print(\"Rata-rata usia:\", rata_usia)\n",
    "print(\"\\n\")\n"
   ]
  },
  {
   "cell_type": "code",
   "execution_count": 45,
   "metadata": {},
   "outputs": [
    {
     "name": "stdout",
     "output_type": "stream",
     "text": [
      "Total usia: 128\n",
      "\n",
      "\n"
     ]
    }
   ],
   "source": [
    "import pandas as pd\n",
    "\n",
    "# membuat DataFrame\n",
    "data = {'nama':['ana','anu','ano','ani','ane','abu','abi'],\n",
    "        'kelas':['2A','2B','2C','2D','2E','2F','2G'],\n",
    "        'gender':['cewek','cowok','cowok','cewek','cewek','cowok','cowok'],\n",
    "        'usia':[17, 18, 19, 20, 18, 19, 17]}\n",
    "\n",
    "df = pd.DataFrame(data)\n",
    "\n",
    "# Menghitung total usia\n",
    "total_usia = df['usia'].sum()\n",
    "print(\"Total usia:\", total_usia)\n",
    "print(\"\\n\")\n"
   ]
  },
  {
   "cell_type": "code",
   "execution_count": 54,
   "metadata": {},
   "outputs": [
    {
     "name": "stdout",
     "output_type": "stream",
     "text": [
      "jumlahn orang per kota:\n",
      "kota\n",
      "pekanbaru    2\n",
      "dumai        1\n",
      "siak         1\n",
      "bandung      1\n",
      "padang       1\n",
      "medan        1\n",
      "Name: count, dtype: int64\n"
     ]
    }
   ],
   "source": [
    "import pandas as pd\n",
    "\n",
    "# membuat DataFrame\n",
    "data = {'nama':['ana','anu','ano','ani','ane','abu','abi'],\n",
    "        'kelas':['2A','2B','2C','2D','2E','2F','2G'],\n",
    "        'gender':['cewek','cowok','cowok','cewek','cewek','cowok','cowok'],\n",
    "        'kota':['pekanbaru','pekanbaru','dumai','siak','bandung','padang','medan']}\n",
    "\n",
    "df = pd.DataFrame(data)\n",
    "\n",
    "# menghitung jumlah orang di setiap kota\n",
    "jumlah_per_kota = df['kota'].value_counts()\n",
    "print(\"jumlahn orang per kota:\")\n",
    "print(jumlah_per_kota)"
   ]
  }
 ],
 "metadata": {
  "kernelspec": {
   "display_name": "Python 3",
   "language": "python",
   "name": "python3"
  },
  "language_info": {
   "codemirror_mode": {
    "name": "ipython",
    "version": 3
   },
   "file_extension": ".py",
   "mimetype": "text/x-python",
   "name": "python",
   "nbconvert_exporter": "python",
   "pygments_lexer": "ipython3",
   "version": "3.12.2"
  }
 },
 "nbformat": 4,
 "nbformat_minor": 2
}
